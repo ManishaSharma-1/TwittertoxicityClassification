{
 "cells": [
  {
   "cell_type": "code",
   "execution_count": 1,
   "metadata": {},
   "outputs": [],
   "source": [
    "from sklearn.model_selection import train_test_split\n",
    "from collections import Counter\n",
    "from tqdm import tqdm_notebook\n",
    "\n",
    "import pandas as pd\n",
    "import nltk\n",
    "\n",
    "import config\n",
    "import log"
   ]
  },
  {
   "cell_type": "code",
   "execution_count": 2,
   "metadata": {},
   "outputs": [
    {
     "name": "stderr",
     "output_type": "stream",
     "text": [
      "[nltk_data] Downloading package punkt to /Users/colan/nltk_data...\n",
      "[nltk_data]   Package punkt is already up-to-date!\n"
     ]
    },
    {
     "data": {
      "text/plain": [
       "True"
      ]
     },
     "execution_count": 2,
     "metadata": {},
     "output_type": "execute_result"
    }
   ],
   "source": [
    "nltk.download('punkt')"
   ]
  },
  {
   "cell_type": "markdown",
   "metadata": {},
   "source": [
    "### Loading in Data"
   ]
  },
  {
   "cell_type": "code",
   "execution_count": 3,
   "metadata": {},
   "outputs": [
    {
     "name": "stdout",
     "output_type": "stream",
     "text": [
      "\u001b[94mINFO:\u001b[0m Loading Training Data\n"
     ]
    }
   ],
   "source": [
    "log.info(\"Loading Training Data\")\n",
    "df = pd.read_csv(config.TRAIN_PATH, header=0, nrows=1000, usecols=['target', 'comment_text'])"
   ]
  },
  {
   "cell_type": "code",
   "execution_count": 4,
   "metadata": {},
   "outputs": [
    {
     "data": {
      "text/html": [
       "<div>\n",
       "<style scoped>\n",
       "    .dataframe tbody tr th:only-of-type {\n",
       "        vertical-align: middle;\n",
       "    }\n",
       "\n",
       "    .dataframe tbody tr th {\n",
       "        vertical-align: top;\n",
       "    }\n",
       "\n",
       "    .dataframe thead th {\n",
       "        text-align: right;\n",
       "    }\n",
       "</style>\n",
       "<table border=\"1\" class=\"dataframe\">\n",
       "  <thead>\n",
       "    <tr style=\"text-align: right;\">\n",
       "      <th></th>\n",
       "      <th>target</th>\n",
       "      <th>comment_text</th>\n",
       "    </tr>\n",
       "  </thead>\n",
       "  <tbody>\n",
       "    <tr>\n",
       "      <td>0</td>\n",
       "      <td>0.000000</td>\n",
       "      <td>This is so cool. It's like, 'would you want yo...</td>\n",
       "    </tr>\n",
       "    <tr>\n",
       "      <td>1</td>\n",
       "      <td>0.000000</td>\n",
       "      <td>Thank you!! This would make my life a lot less...</td>\n",
       "    </tr>\n",
       "    <tr>\n",
       "      <td>2</td>\n",
       "      <td>0.000000</td>\n",
       "      <td>This is such an urgent design problem; kudos t...</td>\n",
       "    </tr>\n",
       "    <tr>\n",
       "      <td>3</td>\n",
       "      <td>0.000000</td>\n",
       "      <td>Is this something I'll be able to install on m...</td>\n",
       "    </tr>\n",
       "    <tr>\n",
       "      <td>4</td>\n",
       "      <td>0.893617</td>\n",
       "      <td>haha you guys are a bunch of losers.</td>\n",
       "    </tr>\n",
       "    <tr>\n",
       "      <td>...</td>\n",
       "      <td>...</td>\n",
       "      <td>...</td>\n",
       "    </tr>\n",
       "    <tr>\n",
       "      <td>995</td>\n",
       "      <td>0.000000</td>\n",
       "      <td>I call dibs on the Tonya Harding pic</td>\n",
       "    </tr>\n",
       "    <tr>\n",
       "      <td>996</td>\n",
       "      <td>0.629630</td>\n",
       "      <td>This is just freaking sad. Another great place...</td>\n",
       "    </tr>\n",
       "    <tr>\n",
       "      <td>997</td>\n",
       "      <td>0.000000</td>\n",
       "      <td>This is a test comment (trying out the new Civ...</td>\n",
       "    </tr>\n",
       "    <tr>\n",
       "      <td>998</td>\n",
       "      <td>0.000000</td>\n",
       "      <td>This is a test comment (trying out the new Civ...</td>\n",
       "    </tr>\n",
       "    <tr>\n",
       "      <td>999</td>\n",
       "      <td>0.000000</td>\n",
       "      <td>Test comment</td>\n",
       "    </tr>\n",
       "  </tbody>\n",
       "</table>\n",
       "<p>1000 rows × 2 columns</p>\n",
       "</div>"
      ],
      "text/plain": [
       "       target                                       comment_text\n",
       "0    0.000000  This is so cool. It's like, 'would you want yo...\n",
       "1    0.000000  Thank you!! This would make my life a lot less...\n",
       "2    0.000000  This is such an urgent design problem; kudos t...\n",
       "3    0.000000  Is this something I'll be able to install on m...\n",
       "4    0.893617               haha you guys are a bunch of losers.\n",
       "..        ...                                                ...\n",
       "995  0.000000               I call dibs on the Tonya Harding pic\n",
       "996  0.629630  This is just freaking sad. Another great place...\n",
       "997  0.000000  This is a test comment (trying out the new Civ...\n",
       "998  0.000000  This is a test comment (trying out the new Civ...\n",
       "999  0.000000                                       Test comment\n",
       "\n",
       "[1000 rows x 2 columns]"
      ]
     },
     "execution_count": 4,
     "metadata": {},
     "output_type": "execute_result"
    }
   ],
   "source": [
    "df"
   ]
  },
  {
   "cell_type": "markdown",
   "metadata": {},
   "source": [
    "### Simplifying Targets\n",
    "\n",
    "For this sample we are going to only use the input text and have it guess a sample label. To get the sample label we are going to create 3 intermediaries for the calculated toxicity target betwee 0 and 1.\n",
    "\n",
    "* 0.00-0.20 -> not toxic\n",
    "* 0.21-0.60 -> mildly toxic\n",
    "* 0.61-1.00 -> toxic"
   ]
  },
  {
   "cell_type": "code",
   "execution_count": 5,
   "metadata": {},
   "outputs": [],
   "source": [
    "targets = df['target'].apply(lambda t: 'not_toxic' if t <= 0.2 else 'mildly_toxic' if t <= 0.6 else 'toxic')\n",
    "df.update(targets)"
   ]
  },
  {
   "cell_type": "code",
   "execution_count": 6,
   "metadata": {},
   "outputs": [
    {
     "data": {
      "text/html": [
       "<div>\n",
       "<style scoped>\n",
       "    .dataframe tbody tr th:only-of-type {\n",
       "        vertical-align: middle;\n",
       "    }\n",
       "\n",
       "    .dataframe tbody tr th {\n",
       "        vertical-align: top;\n",
       "    }\n",
       "\n",
       "    .dataframe thead th {\n",
       "        text-align: right;\n",
       "    }\n",
       "</style>\n",
       "<table border=\"1\" class=\"dataframe\">\n",
       "  <thead>\n",
       "    <tr style=\"text-align: right;\">\n",
       "      <th></th>\n",
       "      <th>target</th>\n",
       "      <th>comment_text</th>\n",
       "    </tr>\n",
       "  </thead>\n",
       "  <tbody>\n",
       "    <tr>\n",
       "      <td>0</td>\n",
       "      <td>not_toxic</td>\n",
       "      <td>This is so cool. It's like, 'would you want yo...</td>\n",
       "    </tr>\n",
       "    <tr>\n",
       "      <td>1</td>\n",
       "      <td>not_toxic</td>\n",
       "      <td>Thank you!! This would make my life a lot less...</td>\n",
       "    </tr>\n",
       "    <tr>\n",
       "      <td>2</td>\n",
       "      <td>not_toxic</td>\n",
       "      <td>This is such an urgent design problem; kudos t...</td>\n",
       "    </tr>\n",
       "    <tr>\n",
       "      <td>3</td>\n",
       "      <td>not_toxic</td>\n",
       "      <td>Is this something I'll be able to install on m...</td>\n",
       "    </tr>\n",
       "    <tr>\n",
       "      <td>4</td>\n",
       "      <td>toxic</td>\n",
       "      <td>haha you guys are a bunch of losers.</td>\n",
       "    </tr>\n",
       "    <tr>\n",
       "      <td>...</td>\n",
       "      <td>...</td>\n",
       "      <td>...</td>\n",
       "    </tr>\n",
       "    <tr>\n",
       "      <td>995</td>\n",
       "      <td>not_toxic</td>\n",
       "      <td>I call dibs on the Tonya Harding pic</td>\n",
       "    </tr>\n",
       "    <tr>\n",
       "      <td>996</td>\n",
       "      <td>toxic</td>\n",
       "      <td>This is just freaking sad. Another great place...</td>\n",
       "    </tr>\n",
       "    <tr>\n",
       "      <td>997</td>\n",
       "      <td>not_toxic</td>\n",
       "      <td>This is a test comment (trying out the new Civ...</td>\n",
       "    </tr>\n",
       "    <tr>\n",
       "      <td>998</td>\n",
       "      <td>not_toxic</td>\n",
       "      <td>This is a test comment (trying out the new Civ...</td>\n",
       "    </tr>\n",
       "    <tr>\n",
       "      <td>999</td>\n",
       "      <td>not_toxic</td>\n",
       "      <td>Test comment</td>\n",
       "    </tr>\n",
       "  </tbody>\n",
       "</table>\n",
       "<p>1000 rows × 2 columns</p>\n",
       "</div>"
      ],
      "text/plain": [
       "        target                                       comment_text\n",
       "0    not_toxic  This is so cool. It's like, 'would you want yo...\n",
       "1    not_toxic  Thank you!! This would make my life a lot less...\n",
       "2    not_toxic  This is such an urgent design problem; kudos t...\n",
       "3    not_toxic  Is this something I'll be able to install on m...\n",
       "4        toxic               haha you guys are a bunch of losers.\n",
       "..         ...                                                ...\n",
       "995  not_toxic               I call dibs on the Tonya Harding pic\n",
       "996      toxic  This is just freaking sad. Another great place...\n",
       "997  not_toxic  This is a test comment (trying out the new Civ...\n",
       "998  not_toxic  This is a test comment (trying out the new Civ...\n",
       "999  not_toxic                                       Test comment\n",
       "\n",
       "[1000 rows x 2 columns]"
      ]
     },
     "execution_count": 6,
     "metadata": {},
     "output_type": "execute_result"
    }
   ],
   "source": [
    "df"
   ]
  },
  {
   "cell_type": "markdown",
   "metadata": {},
   "source": [
    "### Removing Case"
   ]
  },
  {
   "cell_type": "code",
   "execution_count": 7,
   "metadata": {},
   "outputs": [],
   "source": [
    "targets = df['comment_text'].apply(lambda comment: comment.lower())\n",
    "df.update(targets)"
   ]
  },
  {
   "cell_type": "code",
   "execution_count": 8,
   "metadata": {},
   "outputs": [
    {
     "data": {
      "text/html": [
       "<div>\n",
       "<style scoped>\n",
       "    .dataframe tbody tr th:only-of-type {\n",
       "        vertical-align: middle;\n",
       "    }\n",
       "\n",
       "    .dataframe tbody tr th {\n",
       "        vertical-align: top;\n",
       "    }\n",
       "\n",
       "    .dataframe thead th {\n",
       "        text-align: right;\n",
       "    }\n",
       "</style>\n",
       "<table border=\"1\" class=\"dataframe\">\n",
       "  <thead>\n",
       "    <tr style=\"text-align: right;\">\n",
       "      <th></th>\n",
       "      <th>target</th>\n",
       "      <th>comment_text</th>\n",
       "    </tr>\n",
       "  </thead>\n",
       "  <tbody>\n",
       "    <tr>\n",
       "      <td>0</td>\n",
       "      <td>not_toxic</td>\n",
       "      <td>this is so cool. it's like, 'would you want yo...</td>\n",
       "    </tr>\n",
       "    <tr>\n",
       "      <td>1</td>\n",
       "      <td>not_toxic</td>\n",
       "      <td>thank you!! this would make my life a lot less...</td>\n",
       "    </tr>\n",
       "    <tr>\n",
       "      <td>2</td>\n",
       "      <td>not_toxic</td>\n",
       "      <td>this is such an urgent design problem; kudos t...</td>\n",
       "    </tr>\n",
       "    <tr>\n",
       "      <td>3</td>\n",
       "      <td>not_toxic</td>\n",
       "      <td>is this something i'll be able to install on m...</td>\n",
       "    </tr>\n",
       "    <tr>\n",
       "      <td>4</td>\n",
       "      <td>toxic</td>\n",
       "      <td>haha you guys are a bunch of losers.</td>\n",
       "    </tr>\n",
       "    <tr>\n",
       "      <td>...</td>\n",
       "      <td>...</td>\n",
       "      <td>...</td>\n",
       "    </tr>\n",
       "    <tr>\n",
       "      <td>995</td>\n",
       "      <td>not_toxic</td>\n",
       "      <td>i call dibs on the tonya harding pic</td>\n",
       "    </tr>\n",
       "    <tr>\n",
       "      <td>996</td>\n",
       "      <td>toxic</td>\n",
       "      <td>this is just freaking sad. another great place...</td>\n",
       "    </tr>\n",
       "    <tr>\n",
       "      <td>997</td>\n",
       "      <td>not_toxic</td>\n",
       "      <td>this is a test comment (trying out the new civ...</td>\n",
       "    </tr>\n",
       "    <tr>\n",
       "      <td>998</td>\n",
       "      <td>not_toxic</td>\n",
       "      <td>this is a test comment (trying out the new civ...</td>\n",
       "    </tr>\n",
       "    <tr>\n",
       "      <td>999</td>\n",
       "      <td>not_toxic</td>\n",
       "      <td>test comment</td>\n",
       "    </tr>\n",
       "  </tbody>\n",
       "</table>\n",
       "<p>1000 rows × 2 columns</p>\n",
       "</div>"
      ],
      "text/plain": [
       "        target                                       comment_text\n",
       "0    not_toxic  this is so cool. it's like, 'would you want yo...\n",
       "1    not_toxic  thank you!! this would make my life a lot less...\n",
       "2    not_toxic  this is such an urgent design problem; kudos t...\n",
       "3    not_toxic  is this something i'll be able to install on m...\n",
       "4        toxic               haha you guys are a bunch of losers.\n",
       "..         ...                                                ...\n",
       "995  not_toxic               i call dibs on the tonya harding pic\n",
       "996      toxic  this is just freaking sad. another great place...\n",
       "997  not_toxic  this is a test comment (trying out the new civ...\n",
       "998  not_toxic  this is a test comment (trying out the new civ...\n",
       "999  not_toxic                                       test comment\n",
       "\n",
       "[1000 rows x 2 columns]"
      ]
     },
     "execution_count": 8,
     "metadata": {},
     "output_type": "execute_result"
    }
   ],
   "source": [
    "df"
   ]
  },
  {
   "cell_type": "markdown",
   "metadata": {},
   "source": [
    "### Splitting\n",
    "\n",
    "We split the data so we can estimate the performace of our algorithm. You can set the switch value below to decide the split. Default is to 0.8 where 80% of the training is trained on and 20% is tested on."
   ]
  },
  {
   "cell_type": "code",
   "execution_count": 9,
   "metadata": {},
   "outputs": [],
   "source": [
    "split_percentage = 0.8"
   ]
  },
  {
   "cell_type": "code",
   "execution_count": 10,
   "metadata": {},
   "outputs": [
    {
     "name": "stdout",
     "output_type": "stream",
     "text": [
      "\u001b[94mINFO:\u001b[0m Train Data Size: 800\n",
      "\u001b[94mINFO:\u001b[0m Test Data Size: 200\n"
     ]
    }
   ],
   "source": [
    "training_set, testing_set = train_test_split(df, test_size = 1.0 - split_percentage)\n",
    "\n",
    "log.info(f'Train Data Size: {len(training_set)}')\n",
    "log.info(f'Test Data Size: {len(testing_set)}')"
   ]
  },
  {
   "cell_type": "markdown",
   "metadata": {},
   "source": [
    "### Formatting and Bag of Words\n",
    "\n",
    "We'll use the 1000 most occurring words for our bag of words in this example."
   ]
  },
  {
   "cell_type": "code",
   "execution_count": 11,
   "metadata": {},
   "outputs": [],
   "source": [
    "training_data = []\n",
    "training_data = []\n",
    "\n",
    "word_counts = Counter()"
   ]
  },
  {
   "cell_type": "code",
   "execution_count": 12,
   "metadata": {},
   "outputs": [],
   "source": [
    "train = training_set.to_dict()\n",
    "test = testing_set.to_dict()"
   ]
  },
  {
   "cell_type": "code",
   "execution_count": 13,
   "metadata": {},
   "outputs": [
    {
     "data": {
      "application/vnd.jupyter.widget-view+json": {
       "model_id": "9c46b47903ac4bb68b8bd8d3f53ed9b6",
       "version_major": 2,
       "version_minor": 0
      },
      "text/plain": [
       "HBox(children=(IntProgress(value=0, max=800), HTML(value='')))"
      ]
     },
     "metadata": {},
     "output_type": "display_data"
    },
    {
     "name": "stdout",
     "output_type": "stream",
     "text": [
      "\n"
     ]
    }
   ],
   "source": [
    "tweet_tokenizer = nltk.tokenize.TweetTokenizer()\n",
    "\n",
    "for key in tqdm_notebook(train['comment_text']):\n",
    "    tokens = tweet_tokenizer.tokenize(train['comment_text'][key])\n",
    "    train['comment_text'][key] = tokens\n",
    "    \n",
    "    c = Counter(tokens)\n",
    "    word_counts.update(c)"
   ]
  },
  {
   "cell_type": "code",
   "execution_count": 14,
   "metadata": {},
   "outputs": [],
   "source": [
    "most_common_words = word_counts.most_common(1000)"
   ]
  },
  {
   "cell_type": "code",
   "execution_count": 15,
   "metadata": {},
   "outputs": [
    {
     "name": "stdout",
     "output_type": "stream",
     "text": [
      "\u001b[94mINFO:\u001b[0m training set updates\n"
     ]
    },
    {
     "data": {
      "application/vnd.jupyter.widget-view+json": {
       "model_id": "12871160a4bd4bd7a14b485b9ea3a57a",
       "version_major": 2,
       "version_minor": 0
      },
      "text/plain": [
       "HBox(children=(IntProgress(value=0, max=800), HTML(value='')))"
      ]
     },
     "metadata": {},
     "output_type": "display_data"
    },
    {
     "name": "stdout",
     "output_type": "stream",
     "text": [
      "\n"
     ]
    }
   ],
   "source": [
    "log.info('training set updates')\n",
    "\n",
    "for key in tqdm_notebook(train['comment_text']):\n",
    "    tokenized_sentence = train['comment_text'][key]\n",
    "    bow = {}\n",
    "    \n",
    "    for word in most_common_words:\n",
    "        word = word[0]\n",
    "        \n",
    "        if word in tokenized_sentence:\n",
    "            bow[word] = tokenized_sentence.count(word)\n",
    "        else:\n",
    "            bow[word] = 0\n",
    "            \n",
    "    train['comment_text'][key] = bow"
   ]
  },
  {
   "cell_type": "code",
   "execution_count": 16,
   "metadata": {},
   "outputs": [
    {
     "name": "stdout",
     "output_type": "stream",
     "text": [
      "\u001b[94mINFO:\u001b[0m testing set updates\n"
     ]
    },
    {
     "data": {
      "application/vnd.jupyter.widget-view+json": {
       "model_id": "f2f12ba5b1bb44f8921ceb0124e8f936",
       "version_major": 2,
       "version_minor": 0
      },
      "text/plain": [
       "HBox(children=(IntProgress(value=0, max=200), HTML(value='')))"
      ]
     },
     "metadata": {},
     "output_type": "display_data"
    },
    {
     "name": "stdout",
     "output_type": "stream",
     "text": [
      "\n"
     ]
    }
   ],
   "source": [
    "log.info('testing set updates')\n",
    "\n",
    "for key in tqdm_notebook(test['comment_text']):\n",
    "    tokenized_sentence = tweet_tokenizer.tokenize(test['comment_text'][key])\n",
    "    bow = {}\n",
    "    \n",
    "    for word in most_common_words:\n",
    "        word = word[0]\n",
    "        \n",
    "        if word in tokenized_sentence:\n",
    "            bow[word] = tokenized_sentence.count(word)\n",
    "        else:\n",
    "            bow[word] = 0\n",
    "\n",
    "    test['comment_text'][key] = bow"
   ]
  },
  {
   "cell_type": "code",
   "execution_count": 17,
   "metadata": {},
   "outputs": [
    {
     "name": "stdout",
     "output_type": "stream",
     "text": [
      "\u001b[94mINFO:\u001b[0m formatting training data for NLTK\n"
     ]
    },
    {
     "data": {
      "application/vnd.jupyter.widget-view+json": {
       "model_id": "7ab82442450843ec8a6682f46c865562",
       "version_major": 2,
       "version_minor": 0
      },
      "text/plain": [
       "HBox(children=(IntProgress(value=0, max=800), HTML(value='')))"
      ]
     },
     "metadata": {},
     "output_type": "display_data"
    },
    {
     "name": "stdout",
     "output_type": "stream",
     "text": [
      "\n"
     ]
    }
   ],
   "source": [
    "log.info('formatting training data for NLTK')\n",
    "\n",
    "final_training_set = []\n",
    "for key in tqdm_notebook(train['target']):\n",
    "    final_training_set.append((train['comment_text'][key], train['target'][key]))"
   ]
  },
  {
   "cell_type": "code",
   "execution_count": 18,
   "metadata": {},
   "outputs": [
    {
     "name": "stdout",
     "output_type": "stream",
     "text": [
      "\u001b[94mINFO:\u001b[0m formatting testing data for nltk\n"
     ]
    },
    {
     "data": {
      "application/vnd.jupyter.widget-view+json": {
       "model_id": "e6eac68057a34b11a7ed16c1122a6f27",
       "version_major": 2,
       "version_minor": 0
      },
      "text/plain": [
       "HBox(children=(IntProgress(value=0, max=200), HTML(value='')))"
      ]
     },
     "metadata": {},
     "output_type": "display_data"
    },
    {
     "name": "stdout",
     "output_type": "stream",
     "text": [
      "\n"
     ]
    }
   ],
   "source": [
    "log.info('formatting testing data for nltk')\n",
    "\n",
    "final_testing_set = []\n",
    "for key in tqdm_notebook(test['target']):\n",
    "    final_testing_set.append((test['comment_text'][key], test['target'][key]))"
   ]
  },
  {
   "cell_type": "markdown",
   "metadata": {},
   "source": [
    "### Training"
   ]
  },
  {
   "cell_type": "code",
   "execution_count": 19,
   "metadata": {},
   "outputs": [],
   "source": [
    "naive_bayes_classifier = nltk.NaiveBayesClassifier.train(final_training_set)"
   ]
  },
  {
   "cell_type": "markdown",
   "metadata": {},
   "source": [
    "### Evaluation"
   ]
  },
  {
   "cell_type": "code",
   "execution_count": 20,
   "metadata": {},
   "outputs": [
    {
     "data": {
      "text/plain": [
       "0.75"
      ]
     },
     "execution_count": 20,
     "metadata": {},
     "output_type": "execute_result"
    }
   ],
   "source": [
    "nltk.classify.accuracy(naive_bayes_classifier, final_testing_set)"
   ]
  },
  {
   "cell_type": "code",
   "execution_count": 21,
   "metadata": {},
   "outputs": [
    {
     "name": "stdout",
     "output_type": "stream",
     "text": [
      "Most Informative Features\n",
      "                   bunch = 1               toxic : not_to =     88.2 : 1.0\n",
      "                   going = 2               toxic : not_to =     36.8 : 1.0\n",
      "                    want = 3               toxic : not_to =     35.9 : 1.0\n",
      "                   after = 2               toxic : not_to =     35.9 : 1.0\n",
      "                  people = 3              mildly : not_to =     24.7 : 1.0\n",
      "              apartments = 1               toxic : not_to =     22.1 : 1.0\n",
      "                      or = 3               toxic : not_to =     21.1 : 1.0\n",
      "                    guys = 1               toxic : not_to =     21.0 : 1.0\n",
      "                purposes = 1               toxic : not_to =     21.0 : 1.0\n",
      "                     law = 2               toxic : not_to =     20.6 : 1.0\n",
      "                    feds = 1              mildly : not_to =     19.6 : 1.0\n",
      "                   mayor = 2              mildly : not_to =     18.0 : 1.0\n",
      "                    come = 2              mildly : not_to =     18.0 : 1.0\n",
      "              themselves = 2              mildly : not_to =     18.0 : 1.0\n",
      "                 support = 2              mildly : not_to =     18.0 : 1.0\n",
      "                     day = 2              mildly : not_to =     18.0 : 1.0\n",
      "                 citizen = 2              mildly : not_to =     17.9 : 1.0\n",
      "                 student = 4              mildly : not_to =     17.9 : 1.0\n",
      "                       ' = 6              mildly : not_to =     17.8 : 1.0\n",
      "                       ? = 5              mildly : not_to =     17.6 : 1.0\n",
      "                      to = 12             mildly : not_to =     16.9 : 1.0\n",
      "                    both = 2               toxic : not_to =     15.8 : 1.0\n",
      "             enforcement = 2               toxic : not_to =     15.8 : 1.0\n",
      "                     gun = 1               toxic : not_to =     15.8 : 1.0\n",
      "                  bernie = 2               toxic : not_to =     15.4 : 1.0\n",
      "                       ; = 2               toxic : not_to =     15.4 : 1.0\n",
      "                    held = 1              mildly : not_to =     15.1 : 1.0\n",
      "                   white = 1              mildly : not_to =     14.6 : 1.0\n",
      "                   world = 1               toxic : not_to =     14.2 : 1.0\n",
      "                    ways = 1               toxic : not_to =     14.2 : 1.0\n",
      "                   lived = 1              mildly : not_to =     14.0 : 1.0\n",
      "                   major = 1               toxic : not_to =     12.6 : 1.0\n",
      "                  trying = 2               toxic : not_to =     12.3 : 1.0\n",
      "                 because = 2               toxic : not_to =     12.0 : 1.0\n",
      "                   shame = 1              mildly : not_to =     10.9 : 1.0\n",
      "                   lands = 1              mildly : not_to =     10.9 : 1.0\n",
      "                american = 1              mildly : not_to =     10.9 : 1.0\n",
      "                    name = 2              mildly : not_to =     10.8 : 1.0\n",
      "                    rest = 2              mildly : not_to =     10.8 : 1.0\n",
      "                   group = 2              mildly : not_to =     10.8 : 1.0\n",
      "                problems = 2              mildly : not_to =     10.8 : 1.0\n",
      "                       b = 2              mildly : not_to =     10.8 : 1.0\n",
      "                consider = 1              mildly : not_to =     10.8 : 1.0\n",
      "                    lies = 1              mildly : not_to =     10.8 : 1.0\n",
      "                     men = 2              mildly : not_to =     10.8 : 1.0\n",
      "                    laws = 2              mildly : not_to =     10.8 : 1.0\n",
      "                    cake = 2              mildly : not_to =     10.8 : 1.0\n",
      "                    thom = 2              mildly : not_to =     10.8 : 1.0\n",
      "                   needs = 2              mildly : not_to =     10.8 : 1.0\n",
      "                    such = 2              mildly : not_to =     10.8 : 1.0\n"
     ]
    }
   ],
   "source": [
    "naive_bayes_classifier.show_most_informative_features(50)"
   ]
  }
 ],
 "metadata": {
  "kernelspec": {
   "display_name": "Python 3",
   "language": "python",
   "name": "python3"
  },
  "language_info": {
   "codemirror_mode": {
    "name": "ipython",
    "version": 3
   },
   "file_extension": ".py",
   "mimetype": "text/x-python",
   "name": "python",
   "nbconvert_exporter": "python",
   "pygments_lexer": "ipython3",
   "version": "3.7.3"
  }
 },
 "nbformat": 4,
 "nbformat_minor": 2
}
