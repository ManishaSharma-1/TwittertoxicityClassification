{
 "cells": [
  {
   "cell_type": "code",
   "execution_count": 1,
   "metadata": {},
   "outputs": [],
   "source": [
    "from sklearn.model_selection import train_test_split\n",
    "from collections import Counter\n",
    "from tqdm import tqdm_notebook\n",
    "\n",
    "import pandas as pd\n",
    "import nltk\n",
    "\n",
    "import config\n",
    "import log"
   ]
  },
  {
   "cell_type": "code",
   "execution_count": 2,
   "metadata": {},
   "outputs": [
    {
     "name": "stderr",
     "output_type": "stream",
     "text": [
      "[nltk_data] Downloading package punkt to /Users/colan/nltk_data...\n",
      "[nltk_data]   Package punkt is already up-to-date!\n"
     ]
    },
    {
     "data": {
      "text/plain": [
       "True"
      ]
     },
     "execution_count": 2,
     "metadata": {},
     "output_type": "execute_result"
    }
   ],
   "source": [
    "nltk.download('punkt')"
   ]
  },
  {
   "cell_type": "markdown",
   "metadata": {},
   "source": [
    "### Loading in Data"
   ]
  },
  {
   "cell_type": "code",
   "execution_count": 3,
   "metadata": {},
   "outputs": [
    {
     "name": "stdout",
     "output_type": "stream",
     "text": [
      "\u001b[94mINFO:\u001b[0m Loading Training Data\n"
     ]
    }
   ],
   "source": [
    "log.info(\"Loading Training Data\")\n",
    "\n",
    "# use a low n-rows when testing else don't set it\n",
    "# df = pd.read_csv(config.TRAIN_PATH, header=0, nrows=1000, usecols=['target', 'comment_text'])\n",
    "df = pd.read_csv(config.TRAIN_PATH, header=0, usecols=['target', 'comment_text'])"
   ]
  },
  {
   "cell_type": "code",
   "execution_count": 4,
   "metadata": {},
   "outputs": [
    {
     "data": {
      "text/html": [
       "<div>\n",
       "<style scoped>\n",
       "    .dataframe tbody tr th:only-of-type {\n",
       "        vertical-align: middle;\n",
       "    }\n",
       "\n",
       "    .dataframe tbody tr th {\n",
       "        vertical-align: top;\n",
       "    }\n",
       "\n",
       "    .dataframe thead th {\n",
       "        text-align: right;\n",
       "    }\n",
       "</style>\n",
       "<table border=\"1\" class=\"dataframe\">\n",
       "  <thead>\n",
       "    <tr style=\"text-align: right;\">\n",
       "      <th></th>\n",
       "      <th>target</th>\n",
       "      <th>comment_text</th>\n",
       "    </tr>\n",
       "  </thead>\n",
       "  <tbody>\n",
       "    <tr>\n",
       "      <td>0</td>\n",
       "      <td>0.000000</td>\n",
       "      <td>This is so cool. It's like, 'would you want yo...</td>\n",
       "    </tr>\n",
       "    <tr>\n",
       "      <td>1</td>\n",
       "      <td>0.000000</td>\n",
       "      <td>Thank you!! This would make my life a lot less...</td>\n",
       "    </tr>\n",
       "    <tr>\n",
       "      <td>2</td>\n",
       "      <td>0.000000</td>\n",
       "      <td>This is such an urgent design problem; kudos t...</td>\n",
       "    </tr>\n",
       "    <tr>\n",
       "      <td>3</td>\n",
       "      <td>0.000000</td>\n",
       "      <td>Is this something I'll be able to install on m...</td>\n",
       "    </tr>\n",
       "    <tr>\n",
       "      <td>4</td>\n",
       "      <td>0.893617</td>\n",
       "      <td>haha you guys are a bunch of losers.</td>\n",
       "    </tr>\n",
       "    <tr>\n",
       "      <td>...</td>\n",
       "      <td>...</td>\n",
       "      <td>...</td>\n",
       "    </tr>\n",
       "    <tr>\n",
       "      <td>1804869</td>\n",
       "      <td>0.000000</td>\n",
       "      <td>Maybe the tax on \"things\" would be collected w...</td>\n",
       "    </tr>\n",
       "    <tr>\n",
       "      <td>1804870</td>\n",
       "      <td>0.000000</td>\n",
       "      <td>What do you call people who STILL think the di...</td>\n",
       "    </tr>\n",
       "    <tr>\n",
       "      <td>1804871</td>\n",
       "      <td>0.000000</td>\n",
       "      <td>thank you ,,,right or wrong,,, i am following ...</td>\n",
       "    </tr>\n",
       "    <tr>\n",
       "      <td>1804872</td>\n",
       "      <td>0.621212</td>\n",
       "      <td>Anyone who is quoted as having the following e...</td>\n",
       "    </tr>\n",
       "    <tr>\n",
       "      <td>1804873</td>\n",
       "      <td>0.000000</td>\n",
       "      <td>Students defined as EBD are legally just as di...</td>\n",
       "    </tr>\n",
       "  </tbody>\n",
       "</table>\n",
       "<p>1804874 rows × 2 columns</p>\n",
       "</div>"
      ],
      "text/plain": [
       "           target                                       comment_text\n",
       "0        0.000000  This is so cool. It's like, 'would you want yo...\n",
       "1        0.000000  Thank you!! This would make my life a lot less...\n",
       "2        0.000000  This is such an urgent design problem; kudos t...\n",
       "3        0.000000  Is this something I'll be able to install on m...\n",
       "4        0.893617               haha you guys are a bunch of losers.\n",
       "...           ...                                                ...\n",
       "1804869  0.000000  Maybe the tax on \"things\" would be collected w...\n",
       "1804870  0.000000  What do you call people who STILL think the di...\n",
       "1804871  0.000000  thank you ,,,right or wrong,,, i am following ...\n",
       "1804872  0.621212  Anyone who is quoted as having the following e...\n",
       "1804873  0.000000  Students defined as EBD are legally just as di...\n",
       "\n",
       "[1804874 rows x 2 columns]"
      ]
     },
     "execution_count": 4,
     "metadata": {},
     "output_type": "execute_result"
    }
   ],
   "source": [
    "df"
   ]
  },
  {
   "cell_type": "markdown",
   "metadata": {},
   "source": [
    "### Simplifying Targets\n",
    "\n",
    "For this sample we are going to only use the input text and have it guess a sample label. To get the sample label we are going to create 3 intermediaries for the calculated toxicity target betwee 0 and 1.\n",
    "\n",
    "* 0.00-0.20 -> not toxic\n",
    "* 0.21-0.60 -> mildly toxic\n",
    "* 0.61-1.00 -> toxic"
   ]
  },
  {
   "cell_type": "code",
   "execution_count": 5,
   "metadata": {},
   "outputs": [],
   "source": [
    "targets = df['target'].apply(lambda t: 'not_toxic' if t <= 0.2 else 'mildly_toxic' if t <= 0.6 else 'toxic')\n",
    "df.update(targets)"
   ]
  },
  {
   "cell_type": "code",
   "execution_count": 6,
   "metadata": {},
   "outputs": [
    {
     "data": {
      "text/plain": [
       "not_toxic       1534680\n",
       "mildly_toxic     197959\n",
       "toxic             72235\n",
       "Name: target, dtype: int64"
      ]
     },
     "execution_count": 6,
     "metadata": {},
     "output_type": "execute_result"
    }
   ],
   "source": [
    "df.target.value_counts()"
   ]
  },
  {
   "cell_type": "markdown",
   "metadata": {},
   "source": [
    "### Removing Case"
   ]
  },
  {
   "cell_type": "code",
   "execution_count": 7,
   "metadata": {},
   "outputs": [],
   "source": [
    "targets = df['comment_text'].apply(lambda comment: comment.lower())\n",
    "df.update(targets)"
   ]
  },
  {
   "cell_type": "code",
   "execution_count": 8,
   "metadata": {},
   "outputs": [
    {
     "data": {
      "text/html": [
       "<div>\n",
       "<style scoped>\n",
       "    .dataframe tbody tr th:only-of-type {\n",
       "        vertical-align: middle;\n",
       "    }\n",
       "\n",
       "    .dataframe tbody tr th {\n",
       "        vertical-align: top;\n",
       "    }\n",
       "\n",
       "    .dataframe thead th {\n",
       "        text-align: right;\n",
       "    }\n",
       "</style>\n",
       "<table border=\"1\" class=\"dataframe\">\n",
       "  <thead>\n",
       "    <tr style=\"text-align: right;\">\n",
       "      <th></th>\n",
       "      <th>target</th>\n",
       "      <th>comment_text</th>\n",
       "    </tr>\n",
       "  </thead>\n",
       "  <tbody>\n",
       "    <tr>\n",
       "      <td>0</td>\n",
       "      <td>not_toxic</td>\n",
       "      <td>this is so cool. it's like, 'would you want yo...</td>\n",
       "    </tr>\n",
       "    <tr>\n",
       "      <td>1</td>\n",
       "      <td>not_toxic</td>\n",
       "      <td>thank you!! this would make my life a lot less...</td>\n",
       "    </tr>\n",
       "    <tr>\n",
       "      <td>2</td>\n",
       "      <td>not_toxic</td>\n",
       "      <td>this is such an urgent design problem; kudos t...</td>\n",
       "    </tr>\n",
       "    <tr>\n",
       "      <td>3</td>\n",
       "      <td>not_toxic</td>\n",
       "      <td>is this something i'll be able to install on m...</td>\n",
       "    </tr>\n",
       "    <tr>\n",
       "      <td>4</td>\n",
       "      <td>toxic</td>\n",
       "      <td>haha you guys are a bunch of losers.</td>\n",
       "    </tr>\n",
       "    <tr>\n",
       "      <td>...</td>\n",
       "      <td>...</td>\n",
       "      <td>...</td>\n",
       "    </tr>\n",
       "    <tr>\n",
       "      <td>1804869</td>\n",
       "      <td>not_toxic</td>\n",
       "      <td>maybe the tax on \"things\" would be collected w...</td>\n",
       "    </tr>\n",
       "    <tr>\n",
       "      <td>1804870</td>\n",
       "      <td>not_toxic</td>\n",
       "      <td>what do you call people who still think the di...</td>\n",
       "    </tr>\n",
       "    <tr>\n",
       "      <td>1804871</td>\n",
       "      <td>not_toxic</td>\n",
       "      <td>thank you ,,,right or wrong,,, i am following ...</td>\n",
       "    </tr>\n",
       "    <tr>\n",
       "      <td>1804872</td>\n",
       "      <td>toxic</td>\n",
       "      <td>anyone who is quoted as having the following e...</td>\n",
       "    </tr>\n",
       "    <tr>\n",
       "      <td>1804873</td>\n",
       "      <td>not_toxic</td>\n",
       "      <td>students defined as ebd are legally just as di...</td>\n",
       "    </tr>\n",
       "  </tbody>\n",
       "</table>\n",
       "<p>1804874 rows × 2 columns</p>\n",
       "</div>"
      ],
      "text/plain": [
       "            target                                       comment_text\n",
       "0        not_toxic  this is so cool. it's like, 'would you want yo...\n",
       "1        not_toxic  thank you!! this would make my life a lot less...\n",
       "2        not_toxic  this is such an urgent design problem; kudos t...\n",
       "3        not_toxic  is this something i'll be able to install on m...\n",
       "4            toxic               haha you guys are a bunch of losers.\n",
       "...            ...                                                ...\n",
       "1804869  not_toxic  maybe the tax on \"things\" would be collected w...\n",
       "1804870  not_toxic  what do you call people who still think the di...\n",
       "1804871  not_toxic  thank you ,,,right or wrong,,, i am following ...\n",
       "1804872      toxic  anyone who is quoted as having the following e...\n",
       "1804873  not_toxic  students defined as ebd are legally just as di...\n",
       "\n",
       "[1804874 rows x 2 columns]"
      ]
     },
     "execution_count": 8,
     "metadata": {},
     "output_type": "execute_result"
    }
   ],
   "source": [
    "df"
   ]
  },
  {
   "cell_type": "markdown",
   "metadata": {},
   "source": [
    "### Splitting\n",
    "\n",
    "We split the data so we can estimate the performace of our algorithm. You can set the switch value below to decide the split. Default is to 0.8 where 80% of the training is trained on and 20% is tested on."
   ]
  },
  {
   "cell_type": "code",
   "execution_count": 9,
   "metadata": {},
   "outputs": [],
   "source": [
    "split_percentage = 0.8"
   ]
  },
  {
   "cell_type": "code",
   "execution_count": 10,
   "metadata": {},
   "outputs": [
    {
     "name": "stdout",
     "output_type": "stream",
     "text": [
      "\u001b[94mINFO:\u001b[0m Train Data Size: 1443899\n",
      "\u001b[94mINFO:\u001b[0m Test Data Size: 360975\n"
     ]
    }
   ],
   "source": [
    "training_set, testing_set = train_test_split(df, test_size = 1.0 - split_percentage)\n",
    "\n",
    "log.info(f'Train Data Size: {len(training_set)}')\n",
    "log.info(f'Test Data Size: {len(testing_set)}')"
   ]
  },
  {
   "cell_type": "markdown",
   "metadata": {},
   "source": [
    "### Formatting and Bag of Words\n",
    "\n",
    "We'll use the 1000 most occurring words for our bag of words in this example."
   ]
  },
  {
   "cell_type": "code",
   "execution_count": 11,
   "metadata": {},
   "outputs": [],
   "source": [
    "training_data = []\n",
    "training_data = []\n",
    "\n",
    "word_counts = Counter()"
   ]
  },
  {
   "cell_type": "code",
   "execution_count": 12,
   "metadata": {},
   "outputs": [],
   "source": [
    "train = training_set.to_dict()\n",
    "test = testing_set.to_dict()"
   ]
  },
  {
   "cell_type": "code",
   "execution_count": 13,
   "metadata": {},
   "outputs": [
    {
     "data": {
      "application/vnd.jupyter.widget-view+json": {
       "model_id": "de82d31f745846e5bdf9c0eabfa1e066",
       "version_major": 2,
       "version_minor": 0
      },
      "text/plain": [
       "HBox(children=(IntProgress(value=0, max=1443899), HTML(value='')))"
      ]
     },
     "metadata": {},
     "output_type": "display_data"
    },
    {
     "name": "stdout",
     "output_type": "stream",
     "text": [
      "\n"
     ]
    }
   ],
   "source": [
    "tweet_tokenizer = nltk.tokenize.TweetTokenizer()\n",
    "\n",
    "for key in tqdm_notebook(train['comment_text']):\n",
    "    tokens = tweet_tokenizer.tokenize(train['comment_text'][key])\n",
    "    train['comment_text'][key] = tokens\n",
    "    \n",
    "    c = Counter(tokens)\n",
    "    word_counts.update(c)"
   ]
  },
  {
   "cell_type": "code",
   "execution_count": 14,
   "metadata": {},
   "outputs": [],
   "source": [
    "most_common_words = word_counts.most_common(1000)"
   ]
  },
  {
   "cell_type": "code",
   "execution_count": 15,
   "metadata": {},
   "outputs": [
    {
     "name": "stdout",
     "output_type": "stream",
     "text": [
      "\u001b[94mINFO:\u001b[0m training set updates\n"
     ]
    },
    {
     "data": {
      "application/vnd.jupyter.widget-view+json": {
       "model_id": "3d662c09caca4edda8e8de9992e76bc9",
       "version_major": 2,
       "version_minor": 0
      },
      "text/plain": [
       "HBox(children=(IntProgress(value=0, max=1443899), HTML(value='')))"
      ]
     },
     "metadata": {},
     "output_type": "display_data"
    },
    {
     "name": "stdout",
     "output_type": "stream",
     "text": [
      "\n"
     ]
    }
   ],
   "source": [
    "log.info('training set updates')\n",
    "\n",
    "for key in tqdm_notebook(train['comment_text']):\n",
    "    tokenized_sentence = train['comment_text'][key]\n",
    "    bow = {}\n",
    "    \n",
    "    for word in most_common_words:\n",
    "        word = word[0]\n",
    "        \n",
    "        if word in tokenized_sentence:\n",
    "            bow[word] = tokenized_sentence.count(word)\n",
    "        else:\n",
    "            bow[word] = 0\n",
    "            \n",
    "    train['comment_text'][key] = bow"
   ]
  },
  {
   "cell_type": "code",
   "execution_count": 16,
   "metadata": {},
   "outputs": [
    {
     "name": "stdout",
     "output_type": "stream",
     "text": [
      "\u001b[94mINFO:\u001b[0m testing set updates\n"
     ]
    },
    {
     "data": {
      "application/vnd.jupyter.widget-view+json": {
       "model_id": "4f4f661bdd814d718ddf3ddd86b6cd74",
       "version_major": 2,
       "version_minor": 0
      },
      "text/plain": [
       "HBox(children=(IntProgress(value=0, max=360975), HTML(value='')))"
      ]
     },
     "metadata": {},
     "output_type": "display_data"
    },
    {
     "name": "stdout",
     "output_type": "stream",
     "text": [
      "\n"
     ]
    }
   ],
   "source": [
    "log.info('testing set updates')\n",
    "\n",
    "for key in tqdm_notebook(test['comment_text']):\n",
    "    tokenized_sentence = tweet_tokenizer.tokenize(test['comment_text'][key])\n",
    "    bow = {}\n",
    "    \n",
    "    for word in most_common_words:\n",
    "        word = word[0]\n",
    "        \n",
    "        if word in tokenized_sentence:\n",
    "            bow[word] = tokenized_sentence.count(word)\n",
    "        else:\n",
    "            bow[word] = 0\n",
    "\n",
    "    test['comment_text'][key] = bow"
   ]
  },
  {
   "cell_type": "code",
   "execution_count": 17,
   "metadata": {},
   "outputs": [
    {
     "name": "stdout",
     "output_type": "stream",
     "text": [
      "\u001b[94mINFO:\u001b[0m formatting training data for NLTK\n"
     ]
    },
    {
     "data": {
      "application/vnd.jupyter.widget-view+json": {
       "model_id": "f63262ae729041ab8c74abe2f3f0db40",
       "version_major": 2,
       "version_minor": 0
      },
      "text/plain": [
       "HBox(children=(IntProgress(value=0, max=1443899), HTML(value='')))"
      ]
     },
     "metadata": {},
     "output_type": "display_data"
    },
    {
     "name": "stdout",
     "output_type": "stream",
     "text": [
      "\n"
     ]
    }
   ],
   "source": [
    "log.info('formatting training data for NLTK')\n",
    "\n",
    "final_training_set = []\n",
    "for key in tqdm_notebook(train['target']):\n",
    "    final_training_set.append((train['comment_text'][key], train['target'][key]))"
   ]
  },
  {
   "cell_type": "code",
   "execution_count": 18,
   "metadata": {},
   "outputs": [
    {
     "name": "stdout",
     "output_type": "stream",
     "text": [
      "\u001b[94mINFO:\u001b[0m formatting testing data for nltk\n"
     ]
    },
    {
     "data": {
      "application/vnd.jupyter.widget-view+json": {
       "model_id": "4e9aa80509f145cc8305ec99b9e8b0d5",
       "version_major": 2,
       "version_minor": 0
      },
      "text/plain": [
       "HBox(children=(IntProgress(value=0, max=360975), HTML(value='')))"
      ]
     },
     "metadata": {},
     "output_type": "display_data"
    },
    {
     "name": "stdout",
     "output_type": "stream",
     "text": [
      "\n"
     ]
    }
   ],
   "source": [
    "log.info('formatting testing data for nltk')\n",
    "\n",
    "final_testing_set = []\n",
    "for key in tqdm_notebook(test['target']):\n",
    "    final_testing_set.append((test['comment_text'][key], test['target'][key]))"
   ]
  },
  {
   "cell_type": "markdown",
   "metadata": {},
   "source": [
    "### Training"
   ]
  },
  {
   "cell_type": "code",
   "execution_count": 19,
   "metadata": {},
   "outputs": [],
   "source": [
    "naive_bayes_classifier = nltk.NaiveBayesClassifier.train(final_training_set)"
   ]
  },
  {
   "cell_type": "markdown",
   "metadata": {},
   "source": [
    "### Evaluation"
   ]
  },
  {
   "cell_type": "code",
   "execution_count": 20,
   "metadata": {},
   "outputs": [
    {
     "data": {
      "text/plain": [
       "0.5117002562504328"
      ]
     },
     "execution_count": 20,
     "metadata": {},
     "output_type": "execute_result"
    }
   ],
   "source": [
    "print(f'Accuracy: {nltk.classify.accuracy(naive_bayes_classifier, final_testing_set)}')\n",
    "print(f'Precision: not implemented')\n",
    "print(f'Recall: not implemented')"
   ]
  },
  {
   "cell_type": "code",
   "execution_count": 22,
   "metadata": {},
   "outputs": [
    {
     "name": "stdout",
     "output_type": "stream",
     "text": [
      "Most Informative Features\n",
      "                  stupid = 3               toxic : not_to =    710.7 : 1.0\n",
      "                  stupid = 4               toxic : not_to =    472.8 : 1.0\n",
      "                  stupid = 2               toxic : not_to =    415.6 : 1.0\n",
      "                  stupid = 1               toxic : not_to =    131.4 : 1.0\n",
      "                  donald = 6               toxic : not_to =     49.4 : 1.0\n",
      "                       ! = 19              toxic : not_to =     49.4 : 1.0\n",
      "                       ! = 25              toxic : not_to =     35.3 : 1.0\n",
      "                       , = 53              toxic : not_to =     35.3 : 1.0\n",
      "                       ! = 16              toxic : not_to =     30.9 : 1.0\n",
      "                   white = 10             mildly : not_to =     23.3 : 1.0\n",
      "                   their = 11             mildly : not_to =     23.3 : 1.0\n",
      "                   share = 5               toxic : not_to =     21.2 : 1.0\n",
      "                    play = 6               toxic : not_to =     21.2 : 1.0\n",
      "                      ok = 6               toxic : not_to =     21.2 : 1.0\n",
      "                    i'll = 5               toxic : not_to =     21.2 : 1.0\n",
      "             republicans = 7               toxic : not_to =     21.2 : 1.0\n",
      "                    guys = 6               toxic : not_to =     21.2 : 1.0\n",
      "                    mean = 7               toxic : not_to =     21.2 : 1.0\n",
      "                  little = 7               toxic : not_to =     21.2 : 1.0\n",
      "              immigrants = 8               toxic : not_to =     21.2 : 1.0\n",
      "               canadians = 7               toxic : not_to =     21.2 : 1.0\n",
      "                   never = 7               toxic : not_to =     21.2 : 1.0\n",
      "                national = 7               toxic : not_to =     21.2 : 1.0\n",
      "                     man = 8               toxic : not_to =     21.2 : 1.0\n",
      "                 comment = 7               toxic : not_to =     21.2 : 1.0\n",
      "                   lives = 6               toxic : not_to =     21.2 : 1.0\n",
      "                  school = 10              toxic : not_to =     21.2 : 1.0\n",
      "                     him = 12              toxic : not_to =     21.2 : 1.0\n",
      "                    fake = 9               toxic : not_to =     21.2 : 1.0\n",
      "                     for = 12              toxic : not_to =     21.2 : 1.0\n",
      "                       ] = 12              toxic : not_to =     21.2 : 1.0\n",
      "                      is = 18              toxic : not_to =     21.2 : 1.0\n",
      "                      it = 16              toxic : not_to =     21.2 : 1.0\n",
      "                       ; = 19              toxic : not_to =     21.2 : 1.0\n",
      "                       ) = 26              toxic : not_to =     21.2 : 1.0\n",
      "                       ! = 23              toxic : not_to =     21.2 : 1.0\n",
      "                       ! = 17              toxic : not_to =     21.2 : 1.0\n",
      "                       - = 25              toxic : not_to =     21.2 : 1.0\n",
      "                       , = 39              toxic : not_to =     21.2 : 1.0\n",
      "                   white = 9              mildly : not_to =     20.2 : 1.0\n",
      "                   white = 8              mildly : not_to =     18.1 : 1.0\n",
      "                    hate = 8              mildly : not_to =     18.1 : 1.0\n",
      "                   black = 9              mildly : not_to =     18.1 : 1.0\n",
      "                       ” = 11             mildly : not_to =     18.1 : 1.0\n",
      "                   worst = 3               toxic : not_to =     17.7 : 1.0\n",
      "                       ! = 21              toxic : not_to =     17.3 : 1.0\n",
      "                  stupid = 5               toxic : mildly =     17.3 : 1.0\n",
      "                     per = 3              not_to : toxic  =     16.8 : 1.0\n",
      "                     hey = 4               toxic : not_to =     15.1 : 1.0\n",
      "                  racist = 6               toxic : not_to =     15.1 : 1.0\n",
      "                       ! = 15              toxic : not_to =     15.1 : 1.0\n",
      "                 muslims = 5              mildly : not_to =     15.1 : 1.0\n",
      "                 muslims = 6               toxic : not_to =     14.7 : 1.0\n",
      "                 housing = 3              not_to : toxic  =     14.6 : 1.0\n",
      "                     sex = 7              mildly : not_to =     14.4 : 1.0\n",
      "                    lies = 6              mildly : not_to =     14.0 : 1.0\n",
      "                  racist = 5              mildly : not_to =     13.5 : 1.0\n",
      "                   black = 8               toxic : not_to =     13.5 : 1.0\n",
      "             interesting = 2              not_to : toxic  =     13.4 : 1.0\n",
      "                   white = 7               toxic : not_to =     13.3 : 1.0\n",
      "                  income = 3              not_to : toxic  =     13.2 : 1.0\n",
      "                    done = 5              mildly : not_to =     12.9 : 1.0\n",
      "              individual = 6              mildly : not_to =     12.9 : 1.0\n",
      "                    lack = 6              mildly : not_to =     12.9 : 1.0\n",
      "                    away = 6              mildly : not_to =     12.9 : 1.0\n",
      "                    kill = 6              mildly : not_to =     12.9 : 1.0\n",
      "                    some = 9              mildly : not_to =     12.9 : 1.0\n",
      "                     own = 8              mildly : not_to =     12.9 : 1.0\n",
      "                    he's = 7              mildly : not_to =     12.9 : 1.0\n",
      "                    then = 7              mildly : not_to =     12.9 : 1.0\n",
      "                   black = 7              mildly : not_to =     12.9 : 1.0\n",
      "                    risk = 9              mildly : not_to =     12.9 : 1.0\n",
      "                    this = 10             mildly : not_to =     12.9 : 1.0\n",
      "                     for = 14             mildly : not_to =     12.9 : 1.0\n",
      "               shouldn't = 4               toxic : not_to =     12.7 : 1.0\n",
      "                  couple = 5               toxic : not_to =     12.7 : 1.0\n",
      "                wouldn't = 4               toxic : not_to =     12.7 : 1.0\n",
      "                   stand = 5               toxic : not_to =     12.7 : 1.0\n",
      "                   sorry = 5               toxic : not_to =     12.7 : 1.0\n",
      "                   funny = 4               toxic : not_to =     12.7 : 1.0\n",
      "                     ban = 7               toxic : not_to =     12.7 : 1.0\n",
      "                  within = 7               toxic : not_to =     12.7 : 1.0\n",
      "                    gone = 5               toxic : not_to =     12.7 : 1.0\n",
      "                  attack = 7               toxic : not_to =     12.7 : 1.0\n",
      "                    mind = 7               toxic : not_to =     12.7 : 1.0\n",
      "                   we're = 6               toxic : not_to =     12.7 : 1.0\n",
      "                    drug = 8               toxic : not_to =     12.7 : 1.0\n",
      "                   we're = 5               toxic : not_to =     12.7 : 1.0\n",
      "                   legal = 6               toxic : not_to =     12.7 : 1.0\n",
      "                    wait = 6               toxic : not_to =     12.7 : 1.0\n",
      "                    name = 7               toxic : not_to =     12.7 : 1.0\n",
      "                     won = 6               toxic : not_to =     12.7 : 1.0\n",
      "                     nor = 9               toxic : not_to =     12.7 : 1.0\n",
      "                 culture = 7               toxic : not_to =     12.7 : 1.0\n",
      "                     cut = 7               toxic : not_to =     12.7 : 1.0\n",
      "                   sales = 8               toxic : not_to =     12.7 : 1.0\n",
      "                   being = 7               toxic : not_to =     12.7 : 1.0\n",
      "                    poor = 8               toxic : not_to =     12.7 : 1.0\n",
      "                   their = 10              toxic : not_to =     12.7 : 1.0\n",
      "                    like = 7               toxic : not_to =     12.7 : 1.0\n"
     ]
    }
   ],
   "source": [
    "naive_bayes_classifier.show_most_informative_features(100)"
   ]
  }
 ],
 "metadata": {
  "kernelspec": {
   "display_name": "Python 3",
   "language": "python",
   "name": "python3"
  },
  "language_info": {
   "codemirror_mode": {
    "name": "ipython",
    "version": 3
   },
   "file_extension": ".py",
   "mimetype": "text/x-python",
   "name": "python",
   "nbconvert_exporter": "python",
   "pygments_lexer": "ipython3",
   "version": "3.7.3"
  }
 },
 "nbformat": 4,
 "nbformat_minor": 2
}
